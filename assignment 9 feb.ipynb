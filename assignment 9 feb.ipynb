{
 "cells": [
  {
   "cell_type": "code",
   "execution_count": 5,
   "id": "4ede0520-9eb2-4033-b188-5a496a82ffb6",
   "metadata": {},
   "outputs": [],
   "source": [
    "#Answer 1\n",
    "class vehicle:\n",
    "    def __init__(self,name_of_vehicle,max_speed,average_of_vehicle):\n",
    "        self.name=name_of_vehicle\n",
    "        self.speed=max_speed\n",
    "        self.average=average_of_vehicle\n"
   ]
  },
  {
   "cell_type": "code",
   "execution_count": 19,
   "id": "b8a3bd2e-f595-4789-b0da-8b9b5ff0922e",
   "metadata": {},
   "outputs": [
    {
     "data": {
      "text/plain": [
       "'mahindra  has a seating capacity of 5 people.'"
      ]
     },
     "execution_count": 19,
     "metadata": {},
     "output_type": "execute_result"
    }
   ],
   "source": [
    "#Answer2\n",
    "class vehicle:\n",
    "    def __init__(self,name_of_vehicle,max_speed,average_of_vehicle):\n",
    "        self.name=name_of_vehicle\n",
    "        self.speed=max_speed\n",
    "        self.average=average_of_vehicle\n",
    "class child_car(vehicle):\n",
    "    def seating_capicity(self,capacity):\n",
    "        self.capicity=capacity\n",
    "    def get_capacity(self):\n",
    "        return f\"{self.name}  has a seating capacity of {self.capicity} people.\"\n",
    "car=child_car(\"mahindra\",180,15)\n",
    "car.seating_capicity(5)\n",
    "car.get_capacity()"
   ]
  },
  {
   "cell_type": "code",
   "execution_count": null,
   "id": "c0018cc8-468f-4d73-b461-904ac8c92dc9",
   "metadata": {},
   "outputs": [],
   "source": [
    "#Answer 3\n",
    "\"\"\"When a class is derived from more than one base class it is called multiple Inheritance.\n",
    "The derived class inherits all the features of the base case. Syntax: Class Base1: Body of\n",
    "the class Class Base2: Body of the class Class Derived(Base1, Base2): Body of the class.\"\"\"\n",
    "\n",
    "class class1:\n",
    "    def test_class1(self):\n",
    "        return \"this is class test1\"\n",
    "class class2(class1):\n",
    "    def test_class2(self):\n",
    "        return \"this is class test2\"\n",
    "class class3(class2):\n",
    "    def test_class3(self):\n",
    "        return \"this is test class3\"\n",
    "class class4(class3):\n",
    "    pass\n",
    "\n",
    "class4_obj= class4()\n"
   ]
  },
  {
   "cell_type": "code",
   "execution_count": 25,
   "id": "8eba4a49-3c9f-4959-b149-0ab821f0df70",
   "metadata": {},
   "outputs": [
    {
     "data": {
      "text/plain": [
       "10"
      ]
     },
     "execution_count": 25,
     "metadata": {},
     "output_type": "execute_result"
    }
   ],
   "source": [
    "#Answer 4\n",
    "\"\"\"Getters are the methods that are used in Object-Oriented Programming (OOPS) to access\n",
    "a class's private attributes. The setattr() function in Python corresponds to the getattr() \n",
    "function in Python. It alters an object's attribute values.\n",
    "The setter is a method that is used to set the property's value. It is very useful in object-oriented\n",
    "programming to set the value of private attributes in a class.\n",
    "\"\"\"\n",
    "class age:   \n",
    "    def __init__(self, age = 0):   \n",
    "         self._age = age   \n",
    "      # using the getter method   \n",
    "    def get_age(self):   \n",
    "        return self._age   \n",
    "      # using the setter method   \n",
    "    def set_age(self, a):   \n",
    "        self._age = a   \n",
    "    \n",
    "john = age()\n",
    "john.set_age(10)\n",
    "john.get_age()"
   ]
  },
  {
   "cell_type": "code",
   "execution_count": null,
   "id": "bb66a8b6-71ac-4d67-bc81-361d8068e1ac",
   "metadata": {},
   "outputs": [],
   "source": [
    "#Answer 5\n",
    "\"\"\"Method overriding is a feature of object-oriented programming languages where the subclass \n",
    "or child class can provide the program with specific characteristics or a specific implementation \n",
    "process of data provided that are already defined in the parent class or superclass.1\"\"\"\n",
    "# method overriding\n",
    "class Parent():\n",
    "\tdef __init__(self):\n",
    "\t\tself.value = \"Inside Parent\"\n",
    "\tdef show(self):\n",
    "\t\tprint(self.value)\n",
    "class Child(Parent):\n",
    "\tdef __init__(self):\n",
    "\t\tself.value = \"Inside Child\"\n",
    "\tdef show(self):\n",
    "\t\tprint(self.value)\n",
    "obj1 = Parent()\n",
    "obj2 = Child()\n",
    "\n",
    "obj1.show()\n",
    "obj2.show()\n"
   ]
  },
  {
   "cell_type": "code",
   "execution_count": null,
   "id": "f02f8b5a-bbb5-41bb-9ae5-f52601d6813e",
   "metadata": {},
   "outputs": [],
   "source": []
  }
 ],
 "metadata": {
  "kernelspec": {
   "display_name": "Python 3 (ipykernel)",
   "language": "python",
   "name": "python3"
  },
  "language_info": {
   "codemirror_mode": {
    "name": "ipython",
    "version": 3
   },
   "file_extension": ".py",
   "mimetype": "text/x-python",
   "name": "python",
   "nbconvert_exporter": "python",
   "pygments_lexer": "ipython3",
   "version": "3.10.8"
  }
 },
 "nbformat": 4,
 "nbformat_minor": 5
}
